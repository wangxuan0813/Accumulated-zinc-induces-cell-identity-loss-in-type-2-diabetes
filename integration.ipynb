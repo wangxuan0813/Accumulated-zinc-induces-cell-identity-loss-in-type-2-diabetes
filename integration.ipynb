{
 "cells": [
  {
   "cell_type": "markdown",
   "id": "4268c662-26d7-403e-8617-f1d69dfe3882",
   "metadata": {},
   "source": [
    "# Data integration"
   ]
  },
  {
   "cell_type": "code",
   "execution_count": null,
   "id": "d2d88bae",
   "metadata": {},
   "outputs": [],
   "source": [
    "# Python packages\n",
    "import scanpy as sc\n",
    "import scvi\n",
    "import bbknn\n",
    "import scib\n",
    "import numpy as np\n",
    "import pandas as pd\n",
    "import matplotlib.pyplot as plt\n",
    "import matplotlib\n",
    "import os\n",
    "import anndata as ad\n",
    "\n",
    "os.chdir(\"/data/home/wx/scislets\") \n",
    "\n",
    "# R interface\n",
    "from rpy2.robjects import pandas2ri\n",
    "from rpy2.robjects import r\n",
    "import rpy2.rinterface_lib.callbacks\n",
    "import anndata2ri\n",
    "\n",
    "pandas2ri.activate()\n",
    "anndata2ri.activate()\n",
    "\n",
    "%load_ext rpy2.ipython"
   ]
  },
  {
   "cell_type": "code",
   "execution_count": null,
   "id": "9fc18c7d-09dc-4ea6-9de7-e8b30849747d",
   "metadata": {},
   "outputs": [],
   "source": [
    "adata_CT = sc.read(filename=\"processed/CT_quality_control.h5ad\")\n",
    "adata_ZP = sc.read(filename=\"processed/ZP_quality_control.h5ad\")\n",
    "adata_ANS = sc.read(filename=\"processed/ANS_quality_control.h5ad\")"
   ]
  },
  {
   "cell_type": "code",
   "execution_count": null,
   "id": "b985f65e-e631-4cef-9276-40faca78d273",
   "metadata": {},
   "outputs": [],
   "source": [
    "adata = adata_CT.concatenate(\n",
    "    adata_ZP,adata_ANS,\n",
    "    batch_categories=['CT', 'ZP','ANS']\n",
    ")"
   ]
  },
  {
   "cell_type": "code",
   "execution_count": null,
   "id": "37d1916b-745e-49f1-b0ff-5a6544802edd",
   "metadata": {},
   "outputs": [],
   "source": [
    "adata.write(\"processed/adata_raw.h5ad\")"
   ]
  },
  {
   "cell_type": "code",
   "execution_count": null,
   "id": "afc73789-dc59-4ca9-94a1-8f0a552e48b4",
   "metadata": {},
   "outputs": [],
   "source": [
    "#label_key = \"manual_celltype_annotation\"\n",
    "batch_key = \"batch\""
   ]
  },
  {
   "cell_type": "code",
   "execution_count": null,
   "id": "4ab74032-4681-4d9f-8244-836dd7827148",
   "metadata": {},
   "outputs": [],
   "source": [
    "adata"
   ]
  },
  {
   "cell_type": "code",
   "execution_count": null,
   "id": "9fc68f61-7351-46c0-bd5a-1a7cbc261d5f",
   "metadata": {},
   "outputs": [],
   "source": [
    "adata.X = adata.layers[\"counts\"].copy()\n",
    "adata.raw = adata#保存原始矩阵"
   ]
  },
  {
   "cell_type": "code",
   "execution_count": null,
   "id": "d07f2d74-7a13-4ba5-bd5f-2fc991e3cd0d",
   "metadata": {},
   "outputs": [],
   "source": [
    "sc.pp.normalize_total(adata)\n",
    "sc.pp.log1p(adata)\n",
    "adata.layers[\"logcounts\"] = adata.X.copy()"
   ]
  },
  {
   "cell_type": "code",
   "execution_count": null,
   "id": "207f28cf-4eb0-477b-9384-b2b507926045",
   "metadata": {},
   "outputs": [],
   "source": [
    "sc.pp.highly_variable_genes(adata)\n",
    "sc.tl.pca(adata)\n",
    "sc.pp.neighbors(adata)\n",
    "sc.tl.umap(adata)"
   ]
  },
  {
   "cell_type": "code",
   "execution_count": null,
   "id": "4756f62f-9d4b-4ccd-9a06-6d883d56b486",
   "metadata": {},
   "outputs": [],
   "source": [
    "sc.pl.umap(adata, color=[batch_key], wspace=1)"
   ]
  },
  {
   "cell_type": "markdown",
   "id": "554c2cf2-e7ca-4eb2-b08f-4ebd0c7bd171",
   "metadata": {},
   "source": [
    "## Batch-aware feature selection"
   ]
  },
  {
   "cell_type": "code",
   "execution_count": null,
   "id": "db1bf745-f443-4ccf-9fe2-d54656bdd16b",
   "metadata": {},
   "outputs": [],
   "source": [
    "adata.X = adata.layers ['counts'].copy()\n",
    "adata.raw = adata  # keep full dimension safe\n",
    "adata.X = adata.layers ['logcounts'].copy()"
   ]
  },
  {
   "cell_type": "code",
   "execution_count": null,
   "id": "a41cad69-ba9e-4738-8df8-dcc8ba2d76d8",
   "metadata": {
    "scrolled": true
   },
   "outputs": [],
   "source": [
    "sc.pp.highly_variable_genes(\n",
    "    adata, \n",
    "    n_top_genes=2000, \n",
    "    flavor=\"cell_ranger\",\n",
    "    batch_key=batch_key,\n",
    "    subset = True,\n",
    "    layer=\"counts\",\n",
    ")"
   ]
  },
  {
   "cell_type": "code",
   "execution_count": null,
   "id": "4b74cc26-69ba-4e31-be6b-de94440cd40d",
   "metadata": {
    "scrolled": true
   },
   "outputs": [],
   "source": [
    "print(adata.raw.X[0:10,0:10])"
   ]
  },
  {
   "cell_type": "markdown",
   "id": "b0280220-db89-471e-aab2-6d21d7c605df",
   "metadata": {},
   "source": [
    "## Variational autoencoder (VAE) based integration"
   ]
  },
  {
   "cell_type": "markdown",
   "id": "17eb1637-2e07-4a43-bd05-fd28a6b0a20c",
   "metadata": {},
   "source": [
    "### Data preparation"
   ]
  },
  {
   "cell_type": "code",
   "execution_count": null,
   "id": "8f25a1e0-30e8-4454-aa5f-c8735466862d",
   "metadata": {},
   "outputs": [],
   "source": [
    "scvi.model.SCVI.setup_anndata(adata, layer=\"counts\", batch_key=batch_key)"
   ]
  },
  {
   "cell_type": "markdown",
   "id": "6d596cd4-f1b8-4348-b374-10fc4ad41236",
   "metadata": {},
   "source": [
    "### Building the model"
   ]
  },
  {
   "cell_type": "code",
   "execution_count": null,
   "id": "2951dc72-435d-45d0-a1f5-89df90d713f4",
   "metadata": {},
   "outputs": [],
   "source": [
    "model_scvi = scvi.model.SCVI(adata,n_layers=2, n_latent=30, gene_likelihood=\"nb\")\n",
    "model_scvi"
   ]
  },
  {
   "cell_type": "code",
   "execution_count": null,
   "id": "eaa86f26",
   "metadata": {},
   "outputs": [],
   "source": [
    "model_scvi.view_anndata_setup()"
   ]
  },
  {
   "cell_type": "markdown",
   "id": "1bf8df9c-27f3-47b0-864e-a2cfcf2481f1",
   "metadata": {},
   "source": [
    "### Training the model"
   ]
  },
  {
   "cell_type": "code",
   "execution_count": null,
   "id": "a462f886-7172-4f1a-8af8-614ac2915049",
   "metadata": {},
   "outputs": [],
   "source": [
    "max_epochs_scvi = np.min([round((20000 / adata.n_obs) * 400), 400])\n",
    "max_epochs_scvi"
   ]
  },
  {
   "cell_type": "code",
   "execution_count": null,
   "id": "441672ad-d277-4bef-8112-51d0bb22c226",
   "metadata": {
    "scrolled": true
   },
   "outputs": [],
   "source": [
    "model_scvi.train()"
   ]
  },
  {
   "cell_type": "markdown",
   "id": "d7623937-2b97-4a37-96cc-4bf390a57468",
   "metadata": {},
   "source": [
    "### Extracting the embedding "
   ]
  },
  {
   "cell_type": "code",
   "execution_count": null,
   "id": "6a7f0055-44e6-45f4-b360-8cb6995594ef",
   "metadata": {},
   "outputs": [],
   "source": [
    "SCVI_LATENT_KEY = \"X_scVI\"\n",
    "adata.obsm[SCVI_LATENT_KEY] = model_scvi.get_latent_representation()"
   ]
  },
  {
   "cell_type": "code",
   "execution_count": null,
   "id": "095ff057-8457-446a-88d9-a610ed6d22e1",
   "metadata": {},
   "outputs": [],
   "source": [
    "sc.pp.neighbors(adata, use_rep=SCVI_LATENT_KEY)\n",
    "sc.tl.leiden(adata)"
   ]
  },
  {
   "cell_type": "code",
   "execution_count": null,
   "id": "f06800bc-e43b-4db7-8545-608e1e209033",
   "metadata": {},
   "outputs": [],
   "source": [
    "SCVI_MDE_KEY = \"X_scVI_MDE\"\n",
    "adata.obsm[SCVI_MDE_KEY] = scvi.model.utils.mde(adata.obsm[SCVI_LATENT_KEY])"
   ]
  },
  {
   "cell_type": "markdown",
   "id": "e80242f0-18b2-4d60-9082-ef6a24dea58e",
   "metadata": {},
   "source": [
    "### Calculate a batch-corrected UMAP"
   ]
  },
  {
   "cell_type": "code",
   "execution_count": null,
   "id": "cd09d398-bf54-46a1-bade-711cb05662fa",
   "metadata": {},
   "outputs": [],
   "source": [
    "sc.pl.embedding(\n",
    "    adata,\n",
    "    basis=SCVI_MDE_KEY,\n",
    "    color=[\"batch\", \"leiden\"],\n",
    "    frameon=False,\n",
    "    ncols=1,\n",
    ")"
   ]
  },
  {
   "cell_type": "code",
   "execution_count": null,
   "id": "dbbc70b1-7079-46b8-98b0-2b8a6add88a5",
   "metadata": {},
   "outputs": [],
   "source": [
    "print(adata.raw.X)"
   ]
  },
  {
   "cell_type": "code",
   "execution_count": null,
   "id": "01afa3a1-ba43-48a8-8506-0631fcfd54a5",
   "metadata": {},
   "outputs": [],
   "source": [
    "adata.write(\"processed/adata_scvi_interagted.h5ad\")"
   ]
  }
 ],
 "metadata": {
  "kernelspec": {
   "display_name": "Python [conda env:pysenic]",
   "language": "python",
   "name": "conda-env-pysenic-py"
  },
  "language_info": {
   "codemirror_mode": {
    "name": "ipython",
    "version": 3
   },
   "file_extension": ".py",
   "mimetype": "text/x-python",
   "name": "python",
   "nbconvert_exporter": "python",
   "pygments_lexer": "ipython3",
   "version": "3.10.14"
  },
  "nbdime-conflicts": {
   "local_diff": [
    {
     "diff": [
      {
       "diff": [
        {
         "key": 0,
         "op": "addrange",
         "valuelist": [
          "Python 3.8.12 ('bp-integration')"
         ]
        },
        {
         "key": 0,
         "length": 1,
         "op": "removerange"
        }
       ],
       "key": "display_name",
       "op": "patch"
      }
     ],
     "key": "kernelspec",
     "op": "patch"
    },
    {
     "diff": [
      {
       "diff": [
        {
         "key": 0,
         "op": "addrange",
         "valuelist": [
          "3.9.13"
         ]
        },
        {
         "key": 0,
         "length": 1,
         "op": "removerange"
        }
       ],
       "key": "version",
       "op": "patch"
      }
     ],
     "key": "language_info",
     "op": "patch"
    }
   ],
   "remote_diff": [
    {
     "diff": [
      {
       "diff": [
        {
         "key": 0,
         "op": "addrange",
         "valuelist": [
          "Python 3 (ipykernel)"
         ]
        },
        {
         "key": 0,
         "length": 1,
         "op": "removerange"
        }
       ],
       "key": "display_name",
       "op": "patch"
      }
     ],
     "key": "kernelspec",
     "op": "patch"
    },
    {
     "diff": [
      {
       "diff": [
        {
         "key": 0,
         "op": "addrange",
         "valuelist": [
          "3.8.9"
         ]
        },
        {
         "key": 0,
         "length": 1,
         "op": "removerange"
        }
       ],
       "key": "version",
       "op": "patch"
      }
     ],
     "key": "language_info",
     "op": "patch"
    }
   ]
  },
  "vscode": {
   "interpreter": {
    "hash": "e7370f93d1d0cde622a1f8e1c04877d8463912d04d973331ad4851f04de6915a"
   }
  }
 },
 "nbformat": 4,
 "nbformat_minor": 5
}
